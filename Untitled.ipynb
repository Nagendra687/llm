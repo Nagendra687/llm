{
 "cells": [
  {
   "cell_type": "code",
   "execution_count": 81,
   "id": "00f6537d",
   "metadata": {},
   "outputs": [],
   "source": [
    "import pandas as pd\n",
    "import numpy as np\n",
    "import nltk, string\n",
    "train_data_part1 = pd.read_csv('train_essays.csv') #Human generated essays\n",
    "train_data_part2 = pd.read_csv('llm2.csv') ## Chatgpt generated essays"
   ]
  },
  {
   "cell_type": "code",
   "execution_count": 82,
   "id": "f94c4fa9",
   "metadata": {},
   "outputs": [
    {
     "data": {
      "text/html": [
       "<div>\n",
       "<style scoped>\n",
       "    .dataframe tbody tr th:only-of-type {\n",
       "        vertical-align: middle;\n",
       "    }\n",
       "\n",
       "    .dataframe tbody tr th {\n",
       "        vertical-align: top;\n",
       "    }\n",
       "\n",
       "    .dataframe thead th {\n",
       "        text-align: right;\n",
       "    }\n",
       "</style>\n",
       "<table border=\"1\" class=\"dataframe\">\n",
       "  <thead>\n",
       "    <tr style=\"text-align: right;\">\n",
       "      <th></th>\n",
       "      <th>id</th>\n",
       "      <th>prompt_id</th>\n",
       "      <th>text</th>\n",
       "      <th>generated</th>\n",
       "    </tr>\n",
       "  </thead>\n",
       "  <tbody>\n",
       "    <tr>\n",
       "      <th>0</th>\n",
       "      <td>0059830c</td>\n",
       "      <td>0</td>\n",
       "      <td>Cars. Cars have been around since they became ...</td>\n",
       "      <td>0</td>\n",
       "    </tr>\n",
       "    <tr>\n",
       "      <th>1</th>\n",
       "      <td>005db917</td>\n",
       "      <td>0</td>\n",
       "      <td>Transportation is a large necessity in most co...</td>\n",
       "      <td>0</td>\n",
       "    </tr>\n",
       "    <tr>\n",
       "      <th>2</th>\n",
       "      <td>008f63e3</td>\n",
       "      <td>0</td>\n",
       "      <td>\"America's love affair with it's vehicles seem...</td>\n",
       "      <td>0</td>\n",
       "    </tr>\n",
       "    <tr>\n",
       "      <th>3</th>\n",
       "      <td>00940276</td>\n",
       "      <td>0</td>\n",
       "      <td>How often do you ride in a car? Do you drive a...</td>\n",
       "      <td>0</td>\n",
       "    </tr>\n",
       "    <tr>\n",
       "      <th>4</th>\n",
       "      <td>00c39458</td>\n",
       "      <td>0</td>\n",
       "      <td>Cars are a wonderful thing. They are perhaps o...</td>\n",
       "      <td>0</td>\n",
       "    </tr>\n",
       "  </tbody>\n",
       "</table>\n",
       "</div>"
      ],
      "text/plain": [
       "         id  prompt_id                                               text  \\\n",
       "0  0059830c          0  Cars. Cars have been around since they became ...   \n",
       "1  005db917          0  Transportation is a large necessity in most co...   \n",
       "2  008f63e3          0  \"America's love affair with it's vehicles seem...   \n",
       "3  00940276          0  How often do you ride in a car? Do you drive a...   \n",
       "4  00c39458          0  Cars are a wonderful thing. They are perhaps o...   \n",
       "\n",
       "   generated  \n",
       "0          0  \n",
       "1          0  \n",
       "2          0  \n",
       "3          0  \n",
       "4          0  "
      ]
     },
     "execution_count": 82,
     "metadata": {},
     "output_type": "execute_result"
    }
   ],
   "source": [
    "train_data_part1.head()"
   ]
  },
  {
   "cell_type": "code",
   "execution_count": 77,
   "id": "3a39269a",
   "metadata": {},
   "outputs": [
    {
     "data": {
      "text/html": [
       "<div>\n",
       "<style scoped>\n",
       "    .dataframe tbody tr th:only-of-type {\n",
       "        vertical-align: middle;\n",
       "    }\n",
       "\n",
       "    .dataframe tbody tr th {\n",
       "        vertical-align: top;\n",
       "    }\n",
       "\n",
       "    .dataframe thead th {\n",
       "        text-align: right;\n",
       "    }\n",
       "</style>\n",
       "<table border=\"1\" class=\"dataframe\">\n",
       "  <thead>\n",
       "    <tr style=\"text-align: right;\">\n",
       "      <th></th>\n",
       "      <th>Unnamed: 0</th>\n",
       "      <th>text</th>\n",
       "      <th>label</th>\n",
       "    </tr>\n",
       "  </thead>\n",
       "  <tbody>\n",
       "    <tr>\n",
       "      <th>0</th>\n",
       "      <td>0</td>\n",
       "      <td>Title: The Functionality and Importance of the...</td>\n",
       "      <td>1</td>\n",
       "    </tr>\n",
       "    <tr>\n",
       "      <th>1</th>\n",
       "      <td>1</td>\n",
       "      <td>Title: The Utility of the Electoral College in...</td>\n",
       "      <td>1</td>\n",
       "    </tr>\n",
       "    <tr>\n",
       "      <th>2</th>\n",
       "      <td>2</td>\n",
       "      <td>Title: Limiting Car Usage: A Path Towards A Su...</td>\n",
       "      <td>1</td>\n",
       "    </tr>\n",
       "    <tr>\n",
       "      <th>3</th>\n",
       "      <td>3</td>\n",
       "      <td>Title: The Advantages of Limiting Car Usage\\n\\...</td>\n",
       "      <td>1</td>\n",
       "    </tr>\n",
       "    <tr>\n",
       "      <th>4</th>\n",
       "      <td>4</td>\n",
       "      <td>Title: The Advantages of Limiting Car Usage\\n\\...</td>\n",
       "      <td>1</td>\n",
       "    </tr>\n",
       "  </tbody>\n",
       "</table>\n",
       "</div>"
      ],
      "text/plain": [
       "   Unnamed: 0                                               text  label\n",
       "0           0  Title: The Functionality and Importance of the...      1\n",
       "1           1  Title: The Utility of the Electoral College in...      1\n",
       "2           2  Title: Limiting Car Usage: A Path Towards A Su...      1\n",
       "3           3  Title: The Advantages of Limiting Car Usage\\n\\...      1\n",
       "4           4  Title: The Advantages of Limiting Car Usage\\n\\...      1"
      ]
     },
     "execution_count": 77,
     "metadata": {},
     "output_type": "execute_result"
    }
   ],
   "source": [
    "train_data_part2.head()"
   ]
  },
  {
   "cell_type": "code",
   "execution_count": 47,
   "id": "8a0d764a",
   "metadata": {},
   "outputs": [
    {
     "data": {
      "text/html": [
       "<div>\n",
       "<style scoped>\n",
       "    .dataframe tbody tr th:only-of-type {\n",
       "        vertical-align: middle;\n",
       "    }\n",
       "\n",
       "    .dataframe tbody tr th {\n",
       "        vertical-align: top;\n",
       "    }\n",
       "\n",
       "    .dataframe thead th {\n",
       "        text-align: right;\n",
       "    }\n",
       "</style>\n",
       "<table border=\"1\" class=\"dataframe\">\n",
       "  <thead>\n",
       "    <tr style=\"text-align: right;\">\n",
       "      <th></th>\n",
       "      <th>text</th>\n",
       "      <th>label</th>\n",
       "    </tr>\n",
       "  </thead>\n",
       "  <tbody>\n",
       "    <tr>\n",
       "      <th>0</th>\n",
       "      <td>Cars. Cars have been around since they became ...</td>\n",
       "      <td>0</td>\n",
       "    </tr>\n",
       "    <tr>\n",
       "      <th>1</th>\n",
       "      <td>Transportation is a large necessity in most co...</td>\n",
       "      <td>0</td>\n",
       "    </tr>\n",
       "    <tr>\n",
       "      <th>2</th>\n",
       "      <td>\"America's love affair with it's vehicles seem...</td>\n",
       "      <td>0</td>\n",
       "    </tr>\n",
       "    <tr>\n",
       "      <th>3</th>\n",
       "      <td>How often do you ride in a car? Do you drive a...</td>\n",
       "      <td>0</td>\n",
       "    </tr>\n",
       "    <tr>\n",
       "      <th>4</th>\n",
       "      <td>Cars are a wonderful thing. They are perhaps o...</td>\n",
       "      <td>0</td>\n",
       "    </tr>\n",
       "  </tbody>\n",
       "</table>\n",
       "</div>"
      ],
      "text/plain": [
       "                                                text  label\n",
       "0  Cars. Cars have been around since they became ...      0\n",
       "1  Transportation is a large necessity in most co...      0\n",
       "2  \"America's love affair with it's vehicles seem...      0\n",
       "3  How often do you ride in a car? Do you drive a...      0\n",
       "4  Cars are a wonderful thing. They are perhaps o...      0"
      ]
     },
     "execution_count": 47,
     "metadata": {},
     "output_type": "execute_result"
    }
   ],
   "source": [
    "train_data_part3 = pd.DataFrame({'text': list(train_data_part1['text']), 'label': list(train_data_part1['generated'])})\n",
    "train_data_part3.head()"
   ]
  },
  {
   "cell_type": "code",
   "execution_count": 48,
   "id": "5c50aa34",
   "metadata": {},
   "outputs": [],
   "source": [
    "train_data = pd.concat([train_data_part3, train_data_part2[['text', 'label']]], axis=0)\n",
    "train_data = train_data.sample(frac=1).reset_index(drop=True)"
   ]
  },
  {
   "cell_type": "code",
   "execution_count": 49,
   "id": "9cbeef92",
   "metadata": {},
   "outputs": [
    {
     "name": "stdout",
     "output_type": "stream",
     "text": [
      "1594\n"
     ]
    }
   ],
   "source": [
    "fraction = 0.7\n",
    "\n",
    "train_split = int(len(train_data)*fraction)\n",
    "print(train_split)\n",
    "train_set = train_data[0:train_split]\n",
    "test_set= train_data[train_split:]"
   ]
  },
  {
   "cell_type": "code",
   "execution_count": 50,
   "id": "84b98847",
   "metadata": {},
   "outputs": [],
   "source": [
    "class NaiveBayesClassifier:\n",
    "    def __init__(self):\n",
    "        self.class_prob = {}\n",
    "        self.word_class = {}\n",
    "        self.word_class[0] = {}\n",
    "        self.word_class[1] = {}\n",
    "        self.vocab = set()\n",
    "        #self.alpha = alpha\n",
    "        self.all_words = {}\n",
    "        self.all_words[0] = 0\n",
    "        self.all_words[1] = 0\n",
    "        self.stopwords = ['i', 'me', 'my', 'myself', 'we', 'our', 'ours', 'ourselves', 'you', \"you're\", \"you've\", \"you'll\", \"you'd\", 'your', 'yours', 'yourself', 'yourselves', 'he', 'him', 'his', 'himself', 'she', \"she's\", 'her', 'hers', 'herself', 'it', \"it's\", 'its', 'itself', 'they', 'them', 'their', 'theirs', 'themselves', 'what', 'which', 'who', 'whom', 'this', 'that', \"that'll\", 'these','those','am','is','are','was','were','be','been','being','have', 'has', 'had', 'having', 'do', 'does', 'did', 'doing', 'a','an', 'the', 'and', 'but', 'if', 'or','because', 'as', 'until', 'while', 'of', 'at', 'by', 'for', 'with', 'about', 'against', 'between', 'into', 'through', 'during', 'before', 'after', 'above', 'below', 'to','from', 'up', 'down', 'in', 'out', 'on', 'off', 'over', 'under', 'again', 'further','then', 'once', 'here', 'there', 'when', 'where', 'why', 'how', 'all', 'any', 'both', 'each', 'few', 'more', 'most', 'other', 'some', 'such', 'no', 'nor', 'not', 'only', 'own', 'same', 'so', 'than', 'too', 'very', 's', 't', 'can', 'will', 'just', 'don', \"don't\", 'should', \"should've\", 'now', 'd', 'll', 'm', 'o', 're', 've', 'y', 'ain', 'aren', \"aren't\", 'couldn', \"couldn't\", 'didn', \"didn't\", 'doesn', \"doesn't\", 'hadn', \"hadn't\", 'hasn', \"hasn't\", 'haven', \"haven't\", 'isn', \"isn't\", 'ma', 'mightn', \"mightn't\", 'mustn', \"mustn't\", 'needn', \"needn't\", 'shan', \"shan't\", 'shouldn', \"shouldn't\", 'wasn', \"wasn't\", 'weren', \"weren't\", 'won', \"won't\", 'wouldn', \"wouldn't\"]\n",
    "        \n",
    "    def prior_probability(self, train_set):\n",
    "        class_count = {}\n",
    "        class_count[0] = 0\n",
    "        class_count[1] = 1\n",
    "        for item in list(train_set['label']):\n",
    "            if item == 0:\n",
    "                class_count[0] += 1\n",
    "            else:\n",
    "                class_count[1] += 1\n",
    "        class_prob = {}\n",
    "        self.class_prob[0] = class_count[0]/len(train_set)\n",
    "        self.class_prob[1] = class_count[1]/len(train_set)\n",
    "        \n",
    "    def create_train_knowledge(self, train_set):\n",
    "        for i in range(len(train_set)):\n",
    "            for words in train_set['text'][i].split():\n",
    "                if words not in self.stopwords:\n",
    "                    self.vocab.add(words)\n",
    "                    label_i = list(train_set['label'])[i]\n",
    "                    self.all_words[label_i] += 1\n",
    "                    if words in self.word_class[label_i]:\n",
    "                        self.word_class[label_i][words] += 1\n",
    "                    else:\n",
    "                        self.word_class[label_i][words] = 1\n",
    "                \n",
    "  \n",
    "    def calculate_log_prob(self, cls, sent, alpha):\n",
    "        product = 1\n",
    "        for word in sent.split():\n",
    "            if word in self.vocab and word in self.word_class[cls]: \n",
    "                product *= self.word_class[cls][word]*((self.word_class[cls][word]+alpha)/(self.all_words[cls]+alpha*len(self.vocab)))\n",
    "        return product * self.class_prob[cls]    \n",
    "    \n",
    "    def predict(self, sent, alpha):\n",
    "        class_0 = self.calculate_log_prob(0, sent, alpha)\n",
    "        class_1 = self.calculate_log_prob(1, sent, alpha)\n",
    "        if class_1 >= class_0:\n",
    "            return 1\n",
    "        else:\n",
    "            return 0\n",
    "        \n",
    "    def get_score(self, test_set, alpha):\n",
    "        pred = []\n",
    "        for item in list(test_set['text']):\n",
    "            pred.append(self.predict(item, alpha))\n",
    "        count = 0\n",
    "        for ytrue, ypred in zip(list(test_set['label']), pred):\n",
    "            count += int(ytrue == ypred)\n",
    "        return count/len(list(test_set['label']))"
   ]
  },
  {
   "cell_type": "code",
   "execution_count": 51,
   "id": "a9297ab6",
   "metadata": {},
   "outputs": [
    {
     "name": "stdout",
     "output_type": "stream",
     "text": [
      "{0: 0.5947302383939774, 1: 0.40589711417816815}\n"
     ]
    }
   ],
   "source": [
    "nb = NaiveBayesClassifier()\n",
    "nb.prior_probability(train_set)\n",
    "print(nb.class_prob)\n",
    "nb.create_train_knowledge(train_set)"
   ]
  },
  {
   "cell_type": "code",
   "execution_count": 66,
   "id": "0cbaf1bd",
   "metadata": {},
   "outputs": [
    {
     "name": "stdout",
     "output_type": "stream",
     "text": [
      "(2.3194873292503e-07, 0.012006421935093952)\n"
     ]
    }
   ],
   "source": [
    "alpha_value = 10  # You can adjust the value of alpha as needed\n",
    "\n",
    "result_class_0 = nb.calculate_log_prob(0, 'cars are not essential items', alpha_value)\n",
    "result_class_1 = nb.calculate_log_prob(1, 'cars are not essential items', alpha_value)\n",
    "\n",
    "print((result_class_0,result_class_1))\n"
   ]
  },
  {
   "cell_type": "code",
   "execution_count": 65,
   "id": "8b6a6039",
   "metadata": {
    "scrolled": true
   },
   "outputs": [
    {
     "data": {
      "text/plain": [
       "0.43567251461988304"
      ]
     },
     "execution_count": 65,
     "metadata": {},
     "output_type": "execute_result"
    }
   ],
   "source": [
    "alpha = 10\n",
    "nb.get_score(test_set, alpha)"
   ]
  },
  {
   "cell_type": "code",
   "execution_count": 55,
   "id": "543d5d37",
   "metadata": {},
   "outputs": [],
   "source": [
    "alpha = [1000000, 500000, 50000, 5000, 500, 50, 5, 1, 0.1, 0.01, 0.001, 0.0001]\n",
    "accuracy = []\n",
    "for item in alpha:\n",
    "    accuracy.append(nb.get_score(test_set, item))"
   ]
  },
  {
   "cell_type": "code",
   "execution_count": 56,
   "id": "c90bf689",
   "metadata": {},
   "outputs": [
    {
     "data": {
      "text/plain": [
       "[0.03070175438596491,\n",
       " 0.03070175438596491,\n",
       " 0.03070175438596491,\n",
       " 0.02631578947368421,\n",
       " 0.03654970760233918,\n",
       " 0.21198830409356725,\n",
       " 0.5219298245614035,\n",
       " 0.6125730994152047,\n",
       " 0.6301169590643275,\n",
       " 0.6330409356725146,\n",
       " 0.6330409356725146,\n",
       " 0.6330409356725146]"
      ]
     },
     "execution_count": 56,
     "metadata": {},
     "output_type": "execute_result"
    }
   ],
   "source": [
    "accuracy"
   ]
  },
  {
   "cell_type": "code",
   "execution_count": 57,
   "id": "a258d802",
   "metadata": {},
   "outputs": [
    {
     "name": "stderr",
     "output_type": "stream",
     "text": [
      "No artists with labels found to put in legend.  Note that artists whose label start with an underscore are ignored when legend() is called with no argument.\n"
     ]
    },
    {
     "data": {
      "image/png": "[encoded data removed]",
      "text/plain": [
       "<Figure size 640x480 with 1 Axes>"
      ]
     },
     "metadata": {},
     "output_type": "display_data"
    }
   ],
   "source": [
    "import matplotlib.pyplot as plt\n",
    "import numpy as np\n",
    "\n",
    "plt.plot(np.log(alpha), accuracy)\n",
    "plt.xlabel('log(alpha)')\n",
    "plt.ylabel('accuracy') \n",
    "plt.title('Effect of smoothing on naive bayes classifier')\n",
    "plt.legend() \n",
    "plt.show()"
   ]
  },
  {
   "cell_type": "code",
   "execution_count": 58,
   "id": "c0d194b9",
   "metadata": {},
   "outputs": [
    {
     "data": {
      "text/plain": [
       "0.6330409356725146"
      ]
     },
     "execution_count": 58,
     "metadata": {},
     "output_type": "execute_result"
    }
   ],
   "source": [
    "alpha_i = 0.01\n",
    "nb.get_score(test_set, item)"
   ]
  },
  {
   "cell_type": "code",
   "execution_count": 59,
   "id": "4464578a",
   "metadata": {},
   "outputs": [
    {
     "name": "stdout",
     "output_type": "stream",
     "text": [
      "car 1442\n",
      "The 1348\n",
      "Electoral 1190\n",
      "usage 980\n",
      "College 960\n",
      "Title: 643\n",
      "limiting 602\n",
      "air 565\n",
      "cars 550\n",
      "environmental 535\n"
     ]
    }
   ],
   "source": [
    "#llm generated essays\n",
    "i = 0\n",
    "value_based_sorted = sorted(nb.word_class[1], key=nb.word_class[1].get, reverse=True)\n",
    "for item in value_based_sorted:\n",
    "    print(item, nb.word_class[1][item])\n",
    "    i += 1\n",
    "    if i == 10:\n",
    "        break"
   ]
  },
  {
   "cell_type": "code",
   "execution_count": 60,
   "id": "7d1f5140",
   "metadata": {},
   "outputs": [
    {
     "name": "stdout",
     "output_type": "stream",
     "text": [
      "people 3836\n",
      "vote 3347\n",
      "car 3308\n",
      "The 3159\n",
      "Electoral 2838\n",
      "would 2580\n",
      "cars 2492\n",
      "electoral 2224\n",
      "College 1989\n",
      "In 1769\n"
     ]
    }
   ],
   "source": [
    "#human generated essays\n",
    "i = 0\n",
    "value_based_sorted = sorted(nb.word_class[0], key=nb.word_class[0].get, reverse=True)\n",
    "for item in value_based_sorted:\n",
    "    print(item, nb.word_class[0][item])\n",
    "    i += 1\n",
    "    if i == 10:\n",
    "        break"
   ]
  }
 ],
 "metadata": {
  "kernelspec": {
   "display_name": "Python 3 (ipykernel)",
   "language": "python",
   "name": "python3"
  },
  "language_info": {
   "codemirror_mode": {
    "name": "ipython",
    "version": 3
   },
   "file_extension": ".py",
   "mimetype": "text/x-python",
   "name": "python",
   "nbconvert_exporter": "python",
   "pygments_lexer": "ipython3",
   "version": "3.10.10"
  }
 },
 "nbformat": 4,
 "nbformat_minor": 5
}
